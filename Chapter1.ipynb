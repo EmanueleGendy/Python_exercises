{
 "cells": [
  {
   "cell_type": "code",
   "execution_count": 84,
   "id": "d875099e-84ac-4494-94e7-2434086e6aab",
   "metadata": {},
   "outputs": [],
   "source": [
    "import numpy as np\n",
    "import random\n",
    "import matplotlib.pyplot as plt"
   ]
  },
  {
   "cell_type": "code",
   "execution_count": 11,
   "id": "25f75b30-d4f0-4abe-8b1f-b22ffda0eeba",
   "metadata": {},
   "outputs": [],
   "source": [
    "def max_sum(array):\n",
    "    best = 0\n",
    "    tot = 0\n",
    "    for i in array:\n",
    "        tot = max(i, i+ tot)\n",
    "        best = max(tot,best)\n",
    "        print(best,tot)\n",
    "    return best"
   ]
  },
  {
   "cell_type": "code",
   "execution_count": 14,
   "id": "3c434da2-7a3c-483e-9fd6-64aa6350bf39",
   "metadata": {},
   "outputs": [],
   "source": [
    "array =[-1, 2, 4,-3,5,2,-5,2]"
   ]
  },
  {
   "cell_type": "code",
   "execution_count": 13,
   "id": "5f30be97-f95b-4a7e-8f92-6fe826e9f832",
   "metadata": {},
   "outputs": [
    {
     "name": "stdout",
     "output_type": "stream",
     "text": [
      "0 -1\n",
      "2 2\n",
      "6 6\n",
      "6 3\n",
      "8 8\n",
      "10 10\n",
      "10 5\n",
      "10 7\n",
      "10\n"
     ]
    }
   ],
   "source": [
    "print(max_sum(array))"
   ]
  },
  {
   "cell_type": "code",
   "execution_count": null,
   "id": "893173aa-80e4-4dc4-a338-cc4f251c0be1",
   "metadata": {},
   "outputs": [],
   "source": [
    "def generate_subsets(array):\n",
    "    "
   ]
  },
  {
   "cell_type": "code",
   "execution_count": null,
   "id": "44ffb1e6-7365-440c-913f-6b68834c5cd3",
   "metadata": {},
   "outputs": [],
   "source": [
    "def mergeAlternately(self, word1, word2):\n",
    "        totstr = []\n",
    "        lenmin = min(len(word1),len(word2))\n",
    "        for i in range(lenmin):\n",
    "            totstr = totstr + word1[i]\n",
    "            totstr = totstr + word2[i]\n",
    "        if len(word1)-lenmin>0:\n",
    "            totstr = totstr + word1[lenmin+1:]\n",
    "        elif len(word2)-lenmin>0:\n",
    "            totstr = totstr + word2[lenmin+1:]\n",
    "        return totstr\n",
    "        \"\"\"\n",
    "        :type word1: str\n",
    "        :type word2: str\n",
    "        :rtype: str\n",
    "        \"\"\"\n",
    "        "
   ]
  },
  {
   "cell_type": "code",
   "execution_count": 17,
   "id": "b6be4f4d-ab18-4cc6-8f8d-5c3e040bb6cd",
   "metadata": {},
   "outputs": [
    {
     "data": {
      "text/plain": [
       "[-1, 2, 4, -3, 5, 2, -5]"
      ]
     },
     "execution_count": 17,
     "metadata": {},
     "output_type": "execute_result"
    }
   ],
   "source": [
    "array[:-1]"
   ]
  },
  {
   "cell_type": "code",
   "execution_count": 55,
   "id": "21e98ec4-a9ec-41d0-b616-a78dd8c04005",
   "metadata": {},
   "outputs": [],
   "source": [
    "def canPlaceFlowers(flowerbed, n):\n",
    "        print(flowerbed[:2],flowerbed[-2:])\n",
    "        if flowerbed[:2] == [0,0]:\n",
    "            n-= 1\n",
    "            print(n,1)\n",
    "        if flowerbed[-2:] == [0,0]:\n",
    "            n-= 1\n",
    "            print(n,2)\n",
    "        for i in range(2,len(flowerbed)):\n",
    "            if flowerbed[i-2:i+1] == [0,0,0]:\n",
    "                flowerbed[i-1] = 1\n",
    "                n -= 1\n",
    "        if n==0: return True\n",
    "        else: return False\n",
    "        \"\"\"\n",
    "        :type flowerbed: List[int]\n",
    "        :type n: int\n",
    "        :rtype: bool\n",
    "        \"\"\"\n",
    "        "
   ]
  },
  {
   "cell_type": "code",
   "execution_count": 56,
   "id": "1e219ee1-1cfd-448a-93b7-e721820f6669",
   "metadata": {},
   "outputs": [
    {
     "name": "stdout",
     "output_type": "stream",
     "text": [
      "[0, 0] [0, 0]\n",
      "1 1\n",
      "0 2\n",
      "True\n"
     ]
    }
   ],
   "source": [
    "print(canPlaceFlowers([0,0,1,0,0], 2))"
   ]
  },
  {
   "cell_type": "code",
   "execution_count": 64,
   "id": "784bc36a-c42e-4953-bddf-63fe3942c309",
   "metadata": {},
   "outputs": [],
   "source": [
    "def canPlaceFlowers(flowerbed, n):\n",
    "    for i,xi in enumerate(flowerbed):\n",
    "        if flowerbed[i] == 0 and (i-1 < 0 or flowerbed[i-1]==0) and (i+2 > len(flowerbed) or flowerbed[i+1]==0):\n",
    "            flowerbed[i] = 1\n",
    "            n-= 1\n",
    "    if n==0: return True\n",
    "    else: return False"
   ]
  },
  {
   "cell_type": "code",
   "execution_count": 67,
   "id": "d44447bf-0265-46c0-89e7-0e68ce7e1d3f",
   "metadata": {},
   "outputs": [
    {
     "name": "stdout",
     "output_type": "stream",
     "text": [
      "0\n",
      "1\n",
      "2\n",
      "3\n",
      "4\n",
      "True\n",
      "0\n",
      "1\n",
      "True\n",
      "0\n",
      "True\n"
     ]
    }
   ],
   "source": [
    "print(canPlaceFlowers([0,0,1,0,0], 2))\n",
    "print(canPlaceFlowers([0,0], 1))\n",
    "print(canPlaceFlowers([0], 1))"
   ]
  },
  {
   "cell_type": "code",
   "execution_count": 86,
   "id": "aeedee9b-dfa6-4730-b3fb-68ccf9f75121",
   "metadata": {},
   "outputs": [],
   "source": [
    "def acceptance_rejection(n_samples, pdf, a,b):\n",
    "    nbins = int(np.sqrt(n_samples))\n",
    "    xarr = np.linspace(a,b,nbins)\n",
    "    samples = []\n",
    "    for x in xarr:\n",
    "        for i in range(nbins):\n",
    "            y =  random.uniform(0, 1)\n",
    "            if y<pdf(x):\n",
    "                samples.append(x)\n",
    "    return samples, xarr"
   ]
  },
  {
   "cell_type": "code",
   "execution_count": 89,
   "id": "0c6344e6-8e7a-4b2b-bfe9-a61c6c2b41e4",
   "metadata": {},
   "outputs": [],
   "source": [
    "def norm(x):\n",
    "    return np.exp(-(x-3)**2/2)/(2*np.pi)"
   ]
  },
  {
   "cell_type": "code",
   "execution_count": 90,
   "id": "34035574-e6e9-44ed-9362-6de3dde41245",
   "metadata": {},
   "outputs": [],
   "source": [
    "samples, xarr = acceptance_rejection(100000,norm,-10,10)"
   ]
  },
  {
   "cell_type": "code",
   "execution_count": 91,
   "id": "c30c7810-fa65-4897-a11f-d4ccf90bd939",
   "metadata": {},
   "outputs": [
    {
     "data": {
      "text/plain": [
       "(array([ 0.,  0.,  0.,  0.,  0.,  0.,  0.,  0.,  0.,  0.,  0.,  0.,  0.,\n",
       "         0.,  0.,  0.,  0.,  0.,  0.,  0.,  0.,  0.,  0.,  0.,  0.,  0.,\n",
       "         0.,  0.,  0.,  0.,  0.,  0.,  0.,  0.,  0.,  0.,  0.,  0.,  0.,\n",
       "         0.,  0.,  0.,  0.,  0.,  0.,  0.,  0.,  0.,  0.,  0.,  0.,  0.,\n",
       "         0.,  0.,  0.,  0.,  0.,  0.,  0.,  0.,  0.,  0.,  0.,  0.,  0.,\n",
       "         0.,  0.,  0.,  0.,  0.,  0.,  0.,  0.,  0.,  0.,  0.,  0.,  0.,\n",
       "         0.,  0.,  0.,  0.,  0.,  0.,  0.,  0.,  0.,  0.,  0.,  0.,  0.,\n",
       "         0.,  0.,  0.,  0.,  0.,  0.,  0.,  0.,  0.,  0.,  0.,  0.,  0.,\n",
       "         0.,  0.,  0.,  0.,  0.,  0.,  0.,  0.,  0.,  0.,  0.,  0.,  0.,\n",
       "         0.,  0.,  0.,  0.,  0.,  0.,  0.,  0.,  0.,  0.,  0.,  0.,  0.,\n",
       "         0.,  0.,  0.,  0.,  0.,  0.,  0.,  0.,  0.,  0.,  0.,  0.,  0.,\n",
       "         0.,  0.,  0.,  0.,  0.,  0.,  0.,  1.,  0.,  1.,  2.,  1.,  0.,\n",
       "         0.,  0.,  1.,  0.,  0.,  0.,  3.,  2.,  0.,  1.,  3.,  1.,  2.,\n",
       "         2.,  2.,  7.,  2.,  4.,  8.,  9.,  9.,  5., 13., 10., 14., 13.,\n",
       "        14., 24., 10., 29., 30., 31., 33., 38., 41., 41., 35., 49., 44.,\n",
       "        39., 43., 48., 48., 48., 50., 49., 47., 48., 51., 36., 56., 44.,\n",
       "        52., 54., 41., 41., 38., 48., 44., 43., 39., 29., 31., 32., 38.,\n",
       "        31., 28., 22., 28., 33., 14., 11., 17., 18., 13., 12.,  6., 14.,\n",
       "        16.,  8.,  6.,  8.,  5.,  4.,  6.,  4.,  5.,  3.,  3.,  1.,  3.,\n",
       "         2.,  0.,  3.,  1.,  1.,  0.,  0.,  0.,  0.,  0.,  0.,  0.,  1.,\n",
       "         0.,  0.,  0.,  0.,  0.,  0.,  0.,  0.,  0.,  0.,  0.,  0.,  0.,\n",
       "         0.,  0.,  0.,  0.,  0.,  0.,  0.,  0.,  0.,  0.,  0.,  0.,  0.,\n",
       "         0.,  0.,  0.,  0.,  0.,  0.,  0.,  0.,  0.,  0.,  0.,  0.,  0.,\n",
       "         0.,  0.,  0.,  0.,  0.,  0.,  0.,  0.,  0.,  0.,  0.,  0.,  0.,\n",
       "         0.,  0.,  0.]),\n",
       " array([-10.        ,  -9.93650794,  -9.87301587,  -9.80952381,\n",
       "         -9.74603175,  -9.68253968,  -9.61904762,  -9.55555556,\n",
       "         -9.49206349,  -9.42857143,  -9.36507937,  -9.3015873 ,\n",
       "         -9.23809524,  -9.17460317,  -9.11111111,  -9.04761905,\n",
       "         -8.98412698,  -8.92063492,  -8.85714286,  -8.79365079,\n",
       "         -8.73015873,  -8.66666667,  -8.6031746 ,  -8.53968254,\n",
       "         -8.47619048,  -8.41269841,  -8.34920635,  -8.28571429,\n",
       "         -8.22222222,  -8.15873016,  -8.0952381 ,  -8.03174603,\n",
       "         -7.96825397,  -7.9047619 ,  -7.84126984,  -7.77777778,\n",
       "         -7.71428571,  -7.65079365,  -7.58730159,  -7.52380952,\n",
       "         -7.46031746,  -7.3968254 ,  -7.33333333,  -7.26984127,\n",
       "         -7.20634921,  -7.14285714,  -7.07936508,  -7.01587302,\n",
       "         -6.95238095,  -6.88888889,  -6.82539683,  -6.76190476,\n",
       "         -6.6984127 ,  -6.63492063,  -6.57142857,  -6.50793651,\n",
       "         -6.44444444,  -6.38095238,  -6.31746032,  -6.25396825,\n",
       "         -6.19047619,  -6.12698413,  -6.06349206,  -6.        ,\n",
       "         -5.93650794,  -5.87301587,  -5.80952381,  -5.74603175,\n",
       "         -5.68253968,  -5.61904762,  -5.55555556,  -5.49206349,\n",
       "         -5.42857143,  -5.36507937,  -5.3015873 ,  -5.23809524,\n",
       "         -5.17460317,  -5.11111111,  -5.04761905,  -4.98412698,\n",
       "         -4.92063492,  -4.85714286,  -4.79365079,  -4.73015873,\n",
       "         -4.66666667,  -4.6031746 ,  -4.53968254,  -4.47619048,\n",
       "         -4.41269841,  -4.34920635,  -4.28571429,  -4.22222222,\n",
       "         -4.15873016,  -4.0952381 ,  -4.03174603,  -3.96825397,\n",
       "         -3.9047619 ,  -3.84126984,  -3.77777778,  -3.71428571,\n",
       "         -3.65079365,  -3.58730159,  -3.52380952,  -3.46031746,\n",
       "         -3.3968254 ,  -3.33333333,  -3.26984127,  -3.20634921,\n",
       "         -3.14285714,  -3.07936508,  -3.01587302,  -2.95238095,\n",
       "         -2.88888889,  -2.82539683,  -2.76190476,  -2.6984127 ,\n",
       "         -2.63492063,  -2.57142857,  -2.50793651,  -2.44444444,\n",
       "         -2.38095238,  -2.31746032,  -2.25396825,  -2.19047619,\n",
       "         -2.12698413,  -2.06349206,  -2.        ,  -1.93650794,\n",
       "         -1.87301587,  -1.80952381,  -1.74603175,  -1.68253968,\n",
       "         -1.61904762,  -1.55555556,  -1.49206349,  -1.42857143,\n",
       "         -1.36507937,  -1.3015873 ,  -1.23809524,  -1.17460317,\n",
       "         -1.11111111,  -1.04761905,  -0.98412698,  -0.92063492,\n",
       "         -0.85714286,  -0.79365079,  -0.73015873,  -0.66666667,\n",
       "         -0.6031746 ,  -0.53968254,  -0.47619048,  -0.41269841,\n",
       "         -0.34920635,  -0.28571429,  -0.22222222,  -0.15873016,\n",
       "         -0.0952381 ,  -0.03174603,   0.03174603,   0.0952381 ,\n",
       "          0.15873016,   0.22222222,   0.28571429,   0.34920635,\n",
       "          0.41269841,   0.47619048,   0.53968254,   0.6031746 ,\n",
       "          0.66666667,   0.73015873,   0.79365079,   0.85714286,\n",
       "          0.92063492,   0.98412698,   1.04761905,   1.11111111,\n",
       "          1.17460317,   1.23809524,   1.3015873 ,   1.36507937,\n",
       "          1.42857143,   1.49206349,   1.55555556,   1.61904762,\n",
       "          1.68253968,   1.74603175,   1.80952381,   1.87301587,\n",
       "          1.93650794,   2.        ,   2.06349206,   2.12698413,\n",
       "          2.19047619,   2.25396825,   2.31746032,   2.38095238,\n",
       "          2.44444444,   2.50793651,   2.57142857,   2.63492063,\n",
       "          2.6984127 ,   2.76190476,   2.82539683,   2.88888889,\n",
       "          2.95238095,   3.01587302,   3.07936508,   3.14285714,\n",
       "          3.20634921,   3.26984127,   3.33333333,   3.3968254 ,\n",
       "          3.46031746,   3.52380952,   3.58730159,   3.65079365,\n",
       "          3.71428571,   3.77777778,   3.84126984,   3.9047619 ,\n",
       "          3.96825397,   4.03174603,   4.0952381 ,   4.15873016,\n",
       "          4.22222222,   4.28571429,   4.34920635,   4.41269841,\n",
       "          4.47619048,   4.53968254,   4.6031746 ,   4.66666667,\n",
       "          4.73015873,   4.79365079,   4.85714286,   4.92063492,\n",
       "          4.98412698,   5.04761905,   5.11111111,   5.17460317,\n",
       "          5.23809524,   5.3015873 ,   5.36507937,   5.42857143,\n",
       "          5.49206349,   5.55555556,   5.61904762,   5.68253968,\n",
       "          5.74603175,   5.80952381,   5.87301587,   5.93650794,\n",
       "          6.        ,   6.06349206,   6.12698413,   6.19047619,\n",
       "          6.25396825,   6.31746032,   6.38095238,   6.44444444,\n",
       "          6.50793651,   6.57142857,   6.63492063,   6.6984127 ,\n",
       "          6.76190476,   6.82539683,   6.88888889,   6.95238095,\n",
       "          7.01587302,   7.07936508,   7.14285714,   7.20634921,\n",
       "          7.26984127,   7.33333333,   7.3968254 ,   7.46031746,\n",
       "          7.52380952,   7.58730159,   7.65079365,   7.71428571,\n",
       "          7.77777778,   7.84126984,   7.9047619 ,   7.96825397,\n",
       "          8.03174603,   8.0952381 ,   8.15873016,   8.22222222,\n",
       "          8.28571429,   8.34920635,   8.41269841,   8.47619048,\n",
       "          8.53968254,   8.6031746 ,   8.66666667,   8.73015873,\n",
       "          8.79365079,   8.85714286,   8.92063492,   8.98412698,\n",
       "          9.04761905,   9.11111111,   9.17460317,   9.23809524,\n",
       "          9.3015873 ,   9.36507937,   9.42857143,   9.49206349,\n",
       "          9.55555556,   9.61904762,   9.68253968,   9.74603175,\n",
       "          9.80952381,   9.87301587,   9.93650794,  10.        ]),\n",
       " <BarContainer object of 315 artists>)"
      ]
     },
     "execution_count": 91,
     "metadata": {},
     "output_type": "execute_result"
    },
    {
     "data": {
      "image/png": "[encoded data removed]",
      "text/plain": [
       "<Figure size 432x288 with 1 Axes>"
      ]
     },
     "metadata": {
      "needs_background": "light"
     },
     "output_type": "display_data"
    }
   ],
   "source": [
    "plt.hist(samples,xarr)"
   ]
  },
  {
   "cell_type": "code",
   "execution_count": null,
   "id": "1fa4774a-17f6-4d6b-924e-07c87b8d9b7b",
   "metadata": {},
   "outputs": [],
   "source": []
  }
 ],
 "metadata": {
  "kernelspec": {
   "display_name": "Python 3",
   "language": "python",
   "name": "python3"
  },
  "language_info": {
   "codemirror_mode": {
    "name": "ipython",
    "version": 3
   },
   "file_extension": ".py",
   "mimetype": "text/x-python",
   "name": "python",
   "nbconvert_exporter": "python",
   "pygments_lexer": "ipython3",
   "version": "3.9.5"
  }
 },
 "nbformat": 4,
 "nbformat_minor": 5
}
