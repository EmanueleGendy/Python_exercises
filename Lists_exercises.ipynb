{
 "cells": [
  {
   "cell_type": "markdown",
   "id": "2a8e399a-3c67-40f4-a106-9d848617aa65",
   "metadata": {},
   "source": [
    "Here I reproduce some exercises on linked lists, to understand better how they work"
   ]
  },
  {
   "cell_type": "code",
   "execution_count": 129,
   "id": "8f4950b3-a2d4-4918-a4f2-f6fdd1458220",
   "metadata": {},
   "outputs": [],
   "source": [
    "class node:\n",
    "    def __init__(self, data=None, next=None):\n",
    "        self.data = data\n",
    "        self.next = next\n",
    "        \n",
    "    def __repr__(self):\n",
    "        return repr(self.data)\n",
    "    \n",
    "class linked_list:\n",
    "    def __init__(self):\n",
    "        self.head = None\n",
    "        \n",
    "    def __repr__(self):\n",
    "        nodes = []\n",
    "        curr = self.head\n",
    "        while curr:\n",
    "            nodes.append(repr(curr))\n",
    "            curr = curr.next\n",
    "        return '[' + ', '.join(nodes) + ']'\n",
    "    \n",
    "    def append(self,data):\n",
    "        if not self.head:\n",
    "            self.head = node(data=data)\n",
    "            return \n",
    "        \n",
    "        curr = self.head\n",
    "        while curr.next:\n",
    "            curr = curr.next\n",
    "        curr.next = node(data = data)\n",
    "        \n",
    "    def prepend(self,data):\n",
    "        self.head = node(data = data, next = self.head)\n",
    "        \n",
    "    def find(self,key):\n",
    "        curr = self.head\n",
    "        while curr and curr.data != key:\n",
    "            curr = curr.next\n",
    "        return curr\n",
    "    \n",
    "    def remove(self,key):\n",
    "        prev = None\n",
    "        curr = self.head\n",
    "        \n",
    "        while curr and curr.data != key:\n",
    "            prev = curr\n",
    "            curr = curr.next\n",
    "            \n",
    "        if prev is None:\n",
    "            self.head = curr.next\n",
    "            \n",
    "        elif curr:\n",
    "            prev.next = curr.next\n",
    "            curr.next = None\n",
    "            \n",
    "    def reverse(self):\n",
    "        curr = self.head\n",
    "        next_node = None\n",
    "        prev_node = None\n",
    "        \n",
    "        while curr:\n",
    "            next_node = curr.next\n",
    "            curr.next = prev_node\n",
    "            prev_node = curr\n",
    "            curr = next_node\n",
    "        self.head = prev_node\n",
    "    \n",
    "    def reverse_recursive(self, head : node):\n",
    "        if not head:\n",
    "            return None\n",
    "        \n",
    "        newHead = head\n",
    "        \n",
    "        if head.next:\n",
    "            newHead = self.reverse_recursive()\n",
    "            head.next.next = head\n",
    "        head.next = None\n",
    "        return newHead"
   ]
  },
  {
   "cell_type": "code",
   "execution_count": 130,
   "id": "61678a5c-91ac-4d1c-9250-68b391087ffe",
   "metadata": {},
   "outputs": [],
   "source": [
    "lst = linked_list()"
   ]
  },
  {
   "cell_type": "code",
   "execution_count": 131,
   "id": "f14707fc-c238-49fc-a10f-ff99b3801d6e",
   "metadata": {},
   "outputs": [],
   "source": [
    "lst.prepend(3)\n",
    "lst.prepend(4)\n",
    "lst.append(6)\n",
    "lst.append(1)"
   ]
  },
  {
   "cell_type": "code",
   "execution_count": 132,
   "id": "4492b631-1bcf-4508-b88a-57e015ae3be9",
   "metadata": {},
   "outputs": [
    {
     "data": {
      "text/plain": [
       "[4, 3, 6, 1]"
      ]
     },
     "execution_count": 132,
     "metadata": {},
     "output_type": "execute_result"
    }
   ],
   "source": [
    "lst"
   ]
  },
  {
   "cell_type": "code",
   "execution_count": 133,
   "id": "1bed2ac5-eeea-462f-acc6-6f5926fd44b2",
   "metadata": {},
   "outputs": [],
   "source": [
    "lst.reverse()"
   ]
  },
  {
   "cell_type": "code",
   "execution_count": 134,
   "id": "e6993b8c-ba8a-4902-8380-1ae27984c3eb",
   "metadata": {},
   "outputs": [
    {
     "data": {
      "text/plain": [
       "[1, 6, 3, 4]"
      ]
     },
     "execution_count": 134,
     "metadata": {},
     "output_type": "execute_result"
    }
   ],
   "source": [
    "lst"
   ]
  },
  {
   "cell_type": "code",
   "execution_count": null,
   "id": "8c39659c-8401-4d87-9a62-5dddf901a1f2",
   "metadata": {},
   "outputs": [],
   "source": []
  }
 ],
 "metadata": {
  "kernelspec": {
   "display_name": "Python 3",
   "language": "python",
   "name": "python3"
  },
  "language_info": {
   "codemirror_mode": {
    "name": "ipython",
    "version": 3
   },
   "file_extension": ".py",
   "mimetype": "text/x-python",
   "name": "python",
   "nbconvert_exporter": "python",
   "pygments_lexer": "ipython3",
   "version": "3.9.5"
  }
 },
 "nbformat": 4,
 "nbformat_minor": 5
}
